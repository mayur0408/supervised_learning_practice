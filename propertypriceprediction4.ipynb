{
 "cells": [
  {
   "cell_type": "code",
   "execution_count": 1,
   "metadata": {},
   "outputs": [
    {
     "data": {
      "text/html": [
       "<div>\n",
       "<style scoped>\n",
       "    .dataframe tbody tr th:only-of-type {\n",
       "        vertical-align: middle;\n",
       "    }\n",
       "\n",
       "    .dataframe tbody tr th {\n",
       "        vertical-align: top;\n",
       "    }\n",
       "\n",
       "    .dataframe thead th {\n",
       "        text-align: right;\n",
       "    }\n",
       "</style>\n",
       "<table border=\"1\" class=\"dataframe\">\n",
       "  <thead>\n",
       "    <tr style=\"text-align: right;\">\n",
       "      <th></th>\n",
       "      <th>Area</th>\n",
       "      <th>Location</th>\n",
       "      <th>Rooms</th>\n",
       "      <th>Gymnasium</th>\n",
       "      <th>LiftAvailable</th>\n",
       "      <th>CarParking</th>\n",
       "      <th>24x7Security</th>\n",
       "      <th>ChildrensPlayArea</th>\n",
       "      <th>Clubhouse</th>\n",
       "      <th>Intercom</th>\n",
       "      <th>LandscapedGardens</th>\n",
       "      <th>IndoorGames</th>\n",
       "      <th>GasConnection</th>\n",
       "      <th>JoggingTrack</th>\n",
       "      <th>SwimmingPool</th>\n",
       "      <th>Price</th>\n",
       "    </tr>\n",
       "  </thead>\n",
       "  <tbody>\n",
       "    <tr>\n",
       "      <th>0</th>\n",
       "      <td>720</td>\n",
       "      <td>Kharghar</td>\n",
       "      <td>1</td>\n",
       "      <td>0</td>\n",
       "      <td>1</td>\n",
       "      <td>1</td>\n",
       "      <td>1</td>\n",
       "      <td>0</td>\n",
       "      <td>0</td>\n",
       "      <td>0</td>\n",
       "      <td>0</td>\n",
       "      <td>0</td>\n",
       "      <td>0</td>\n",
       "      <td>0</td>\n",
       "      <td>0</td>\n",
       "      <td>4850000</td>\n",
       "    </tr>\n",
       "    <tr>\n",
       "      <th>1</th>\n",
       "      <td>600</td>\n",
       "      <td>Kharghar</td>\n",
       "      <td>1</td>\n",
       "      <td>1</td>\n",
       "      <td>1</td>\n",
       "      <td>1</td>\n",
       "      <td>1</td>\n",
       "      <td>0</td>\n",
       "      <td>1</td>\n",
       "      <td>0</td>\n",
       "      <td>0</td>\n",
       "      <td>0</td>\n",
       "      <td>0</td>\n",
       "      <td>1</td>\n",
       "      <td>1</td>\n",
       "      <td>4500000</td>\n",
       "    </tr>\n",
       "    <tr>\n",
       "      <th>2</th>\n",
       "      <td>650</td>\n",
       "      <td>Kharghar</td>\n",
       "      <td>1</td>\n",
       "      <td>1</td>\n",
       "      <td>1</td>\n",
       "      <td>1</td>\n",
       "      <td>1</td>\n",
       "      <td>1</td>\n",
       "      <td>1</td>\n",
       "      <td>1</td>\n",
       "      <td>0</td>\n",
       "      <td>0</td>\n",
       "      <td>0</td>\n",
       "      <td>1</td>\n",
       "      <td>1</td>\n",
       "      <td>6700000</td>\n",
       "    </tr>\n",
       "    <tr>\n",
       "      <th>3</th>\n",
       "      <td>650</td>\n",
       "      <td>Kharghar</td>\n",
       "      <td>1</td>\n",
       "      <td>0</td>\n",
       "      <td>1</td>\n",
       "      <td>1</td>\n",
       "      <td>1</td>\n",
       "      <td>0</td>\n",
       "      <td>0</td>\n",
       "      <td>1</td>\n",
       "      <td>1</td>\n",
       "      <td>0</td>\n",
       "      <td>0</td>\n",
       "      <td>0</td>\n",
       "      <td>0</td>\n",
       "      <td>4500000</td>\n",
       "    </tr>\n",
       "    <tr>\n",
       "      <th>4</th>\n",
       "      <td>665</td>\n",
       "      <td>Kharghar</td>\n",
       "      <td>1</td>\n",
       "      <td>0</td>\n",
       "      <td>1</td>\n",
       "      <td>1</td>\n",
       "      <td>1</td>\n",
       "      <td>0</td>\n",
       "      <td>0</td>\n",
       "      <td>1</td>\n",
       "      <td>1</td>\n",
       "      <td>0</td>\n",
       "      <td>0</td>\n",
       "      <td>0</td>\n",
       "      <td>0</td>\n",
       "      <td>5000000</td>\n",
       "    </tr>\n",
       "  </tbody>\n",
       "</table>\n",
       "</div>"
      ],
      "text/plain": [
       "   Area  Location  Rooms  Gymnasium  LiftAvailable  CarParking  24x7Security  \\\n",
       "0   720  Kharghar      1          0              1           1             1   \n",
       "1   600  Kharghar      1          1              1           1             1   \n",
       "2   650  Kharghar      1          1              1           1             1   \n",
       "3   650  Kharghar      1          0              1           1             1   \n",
       "4   665  Kharghar      1          0              1           1             1   \n",
       "\n",
       "   ChildrensPlayArea  Clubhouse  Intercom  LandscapedGardens  IndoorGames  \\\n",
       "0                  0          0         0                  0            0   \n",
       "1                  0          1         0                  0            0   \n",
       "2                  1          1         1                  0            0   \n",
       "3                  0          0         1                  1            0   \n",
       "4                  0          0         1                  1            0   \n",
       "\n",
       "   GasConnection  JoggingTrack  SwimmingPool    Price  \n",
       "0              0             0             0  4850000  \n",
       "1              0             1             1  4500000  \n",
       "2              0             1             1  6700000  \n",
       "3              0             0             0  4500000  \n",
       "4              0             0             0  5000000  "
      ]
     },
     "execution_count": 1,
     "metadata": {},
     "output_type": "execute_result"
    }
   ],
   "source": [
    "import numpy as np \n",
    "import pandas as pd \n",
    "import matplotlib.pyplot as plt \n",
    "%matplotlib inline\n",
    "df=pd.read_csv('Dataset1.csv')\n",
    "df.head()"
   ]
  },
  {
   "cell_type": "code",
   "execution_count": 2,
   "metadata": {},
   "outputs": [
    {
     "data": {
      "text/html": [
       "<div>\n",
       "<style scoped>\n",
       "    .dataframe tbody tr th:only-of-type {\n",
       "        vertical-align: middle;\n",
       "    }\n",
       "\n",
       "    .dataframe tbody tr th {\n",
       "        vertical-align: top;\n",
       "    }\n",
       "\n",
       "    .dataframe thead th {\n",
       "        text-align: right;\n",
       "    }\n",
       "</style>\n",
       "<table border=\"1\" class=\"dataframe\">\n",
       "  <thead>\n",
       "    <tr style=\"text-align: right;\">\n",
       "      <th></th>\n",
       "      <th>Area</th>\n",
       "      <th>Location</th>\n",
       "      <th>Rooms</th>\n",
       "      <th>Gymnasium</th>\n",
       "      <th>LiftAvailable</th>\n",
       "      <th>CarParking</th>\n",
       "      <th>Security</th>\n",
       "      <th>ChildrensPlayArea</th>\n",
       "      <th>Clubhouse</th>\n",
       "      <th>Intercom</th>\n",
       "      <th>LandscapedGardens</th>\n",
       "      <th>IndoorGames</th>\n",
       "      <th>GasConnection</th>\n",
       "      <th>JoggingTrack</th>\n",
       "      <th>SwimmingPool</th>\n",
       "      <th>Price</th>\n",
       "    </tr>\n",
       "  </thead>\n",
       "  <tbody>\n",
       "    <tr>\n",
       "      <th>0</th>\n",
       "      <td>720</td>\n",
       "      <td>Kharghar</td>\n",
       "      <td>1</td>\n",
       "      <td>0</td>\n",
       "      <td>1</td>\n",
       "      <td>1</td>\n",
       "      <td>1</td>\n",
       "      <td>0</td>\n",
       "      <td>0</td>\n",
       "      <td>0</td>\n",
       "      <td>0</td>\n",
       "      <td>0</td>\n",
       "      <td>0</td>\n",
       "      <td>0</td>\n",
       "      <td>0</td>\n",
       "      <td>4850000</td>\n",
       "    </tr>\n",
       "    <tr>\n",
       "      <th>1</th>\n",
       "      <td>600</td>\n",
       "      <td>Kharghar</td>\n",
       "      <td>1</td>\n",
       "      <td>1</td>\n",
       "      <td>1</td>\n",
       "      <td>1</td>\n",
       "      <td>1</td>\n",
       "      <td>0</td>\n",
       "      <td>1</td>\n",
       "      <td>0</td>\n",
       "      <td>0</td>\n",
       "      <td>0</td>\n",
       "      <td>0</td>\n",
       "      <td>1</td>\n",
       "      <td>1</td>\n",
       "      <td>4500000</td>\n",
       "    </tr>\n",
       "    <tr>\n",
       "      <th>2</th>\n",
       "      <td>650</td>\n",
       "      <td>Kharghar</td>\n",
       "      <td>1</td>\n",
       "      <td>1</td>\n",
       "      <td>1</td>\n",
       "      <td>1</td>\n",
       "      <td>1</td>\n",
       "      <td>1</td>\n",
       "      <td>1</td>\n",
       "      <td>1</td>\n",
       "      <td>0</td>\n",
       "      <td>0</td>\n",
       "      <td>0</td>\n",
       "      <td>1</td>\n",
       "      <td>1</td>\n",
       "      <td>6700000</td>\n",
       "    </tr>\n",
       "    <tr>\n",
       "      <th>3</th>\n",
       "      <td>650</td>\n",
       "      <td>Kharghar</td>\n",
       "      <td>1</td>\n",
       "      <td>0</td>\n",
       "      <td>1</td>\n",
       "      <td>1</td>\n",
       "      <td>1</td>\n",
       "      <td>0</td>\n",
       "      <td>0</td>\n",
       "      <td>1</td>\n",
       "      <td>1</td>\n",
       "      <td>0</td>\n",
       "      <td>0</td>\n",
       "      <td>0</td>\n",
       "      <td>0</td>\n",
       "      <td>4500000</td>\n",
       "    </tr>\n",
       "    <tr>\n",
       "      <th>4</th>\n",
       "      <td>665</td>\n",
       "      <td>Kharghar</td>\n",
       "      <td>1</td>\n",
       "      <td>0</td>\n",
       "      <td>1</td>\n",
       "      <td>1</td>\n",
       "      <td>1</td>\n",
       "      <td>0</td>\n",
       "      <td>0</td>\n",
       "      <td>1</td>\n",
       "      <td>1</td>\n",
       "      <td>0</td>\n",
       "      <td>0</td>\n",
       "      <td>0</td>\n",
       "      <td>0</td>\n",
       "      <td>5000000</td>\n",
       "    </tr>\n",
       "  </tbody>\n",
       "</table>\n",
       "</div>"
      ],
      "text/plain": [
       "   Area  Location  Rooms  Gymnasium  LiftAvailable  CarParking  Security  \\\n",
       "0   720  Kharghar      1          0              1           1         1   \n",
       "1   600  Kharghar      1          1              1           1         1   \n",
       "2   650  Kharghar      1          1              1           1         1   \n",
       "3   650  Kharghar      1          0              1           1         1   \n",
       "4   665  Kharghar      1          0              1           1         1   \n",
       "\n",
       "   ChildrensPlayArea  Clubhouse  Intercom  LandscapedGardens  IndoorGames  \\\n",
       "0                  0          0         0                  0            0   \n",
       "1                  0          1         0                  0            0   \n",
       "2                  1          1         1                  0            0   \n",
       "3                  0          0         1                  1            0   \n",
       "4                  0          0         1                  1            0   \n",
       "\n",
       "   GasConnection  JoggingTrack  SwimmingPool    Price  \n",
       "0              0             0             0  4850000  \n",
       "1              0             1             1  4500000  \n",
       "2              0             1             1  6700000  \n",
       "3              0             0             0  4500000  \n",
       "4              0             0             0  5000000  "
      ]
     },
     "execution_count": 2,
     "metadata": {},
     "output_type": "execute_result"
    }
   ],
   "source": [
    "df.rename(columns={\"24x7Security\":\"Security\"},inplace=True)\n",
    "df.head()"
   ]
  },
  {
   "cell_type": "code",
   "execution_count": 3,
   "metadata": {},
   "outputs": [],
   "source": [
    "df['Price_per_room']=df[\"Price\"]/df[\"Rooms\"]"
   ]
  },
  {
   "cell_type": "code",
   "execution_count": 4,
   "metadata": {},
   "outputs": [
    {
     "data": {
      "text/html": [
       "<div>\n",
       "<style scoped>\n",
       "    .dataframe tbody tr th:only-of-type {\n",
       "        vertical-align: middle;\n",
       "    }\n",
       "\n",
       "    .dataframe tbody tr th {\n",
       "        vertical-align: top;\n",
       "    }\n",
       "\n",
       "    .dataframe thead th {\n",
       "        text-align: right;\n",
       "    }\n",
       "</style>\n",
       "<table border=\"1\" class=\"dataframe\">\n",
       "  <thead>\n",
       "    <tr style=\"text-align: right;\">\n",
       "      <th></th>\n",
       "      <th>Area</th>\n",
       "      <th>Location</th>\n",
       "      <th>Rooms</th>\n",
       "      <th>Gymnasium</th>\n",
       "      <th>LiftAvailable</th>\n",
       "      <th>CarParking</th>\n",
       "      <th>Security</th>\n",
       "      <th>ChildrensPlayArea</th>\n",
       "      <th>Clubhouse</th>\n",
       "      <th>Intercom</th>\n",
       "      <th>LandscapedGardens</th>\n",
       "      <th>IndoorGames</th>\n",
       "      <th>GasConnection</th>\n",
       "      <th>JoggingTrack</th>\n",
       "      <th>SwimmingPool</th>\n",
       "      <th>Price</th>\n",
       "      <th>Price_per_room</th>\n",
       "    </tr>\n",
       "  </thead>\n",
       "  <tbody>\n",
       "    <tr>\n",
       "      <th>0</th>\n",
       "      <td>720</td>\n",
       "      <td>Kharghar</td>\n",
       "      <td>1</td>\n",
       "      <td>0</td>\n",
       "      <td>1</td>\n",
       "      <td>1</td>\n",
       "      <td>1</td>\n",
       "      <td>0</td>\n",
       "      <td>0</td>\n",
       "      <td>0</td>\n",
       "      <td>0</td>\n",
       "      <td>0</td>\n",
       "      <td>0</td>\n",
       "      <td>0</td>\n",
       "      <td>0</td>\n",
       "      <td>4850000</td>\n",
       "      <td>4850000.0</td>\n",
       "    </tr>\n",
       "    <tr>\n",
       "      <th>1</th>\n",
       "      <td>600</td>\n",
       "      <td>Kharghar</td>\n",
       "      <td>1</td>\n",
       "      <td>1</td>\n",
       "      <td>1</td>\n",
       "      <td>1</td>\n",
       "      <td>1</td>\n",
       "      <td>0</td>\n",
       "      <td>1</td>\n",
       "      <td>0</td>\n",
       "      <td>0</td>\n",
       "      <td>0</td>\n",
       "      <td>0</td>\n",
       "      <td>1</td>\n",
       "      <td>1</td>\n",
       "      <td>4500000</td>\n",
       "      <td>4500000.0</td>\n",
       "    </tr>\n",
       "    <tr>\n",
       "      <th>2</th>\n",
       "      <td>650</td>\n",
       "      <td>Kharghar</td>\n",
       "      <td>1</td>\n",
       "      <td>1</td>\n",
       "      <td>1</td>\n",
       "      <td>1</td>\n",
       "      <td>1</td>\n",
       "      <td>1</td>\n",
       "      <td>1</td>\n",
       "      <td>1</td>\n",
       "      <td>0</td>\n",
       "      <td>0</td>\n",
       "      <td>0</td>\n",
       "      <td>1</td>\n",
       "      <td>1</td>\n",
       "      <td>6700000</td>\n",
       "      <td>6700000.0</td>\n",
       "    </tr>\n",
       "    <tr>\n",
       "      <th>3</th>\n",
       "      <td>650</td>\n",
       "      <td>Kharghar</td>\n",
       "      <td>1</td>\n",
       "      <td>0</td>\n",
       "      <td>1</td>\n",
       "      <td>1</td>\n",
       "      <td>1</td>\n",
       "      <td>0</td>\n",
       "      <td>0</td>\n",
       "      <td>1</td>\n",
       "      <td>1</td>\n",
       "      <td>0</td>\n",
       "      <td>0</td>\n",
       "      <td>0</td>\n",
       "      <td>0</td>\n",
       "      <td>4500000</td>\n",
       "      <td>4500000.0</td>\n",
       "    </tr>\n",
       "    <tr>\n",
       "      <th>4</th>\n",
       "      <td>665</td>\n",
       "      <td>Kharghar</td>\n",
       "      <td>1</td>\n",
       "      <td>0</td>\n",
       "      <td>1</td>\n",
       "      <td>1</td>\n",
       "      <td>1</td>\n",
       "      <td>0</td>\n",
       "      <td>0</td>\n",
       "      <td>1</td>\n",
       "      <td>1</td>\n",
       "      <td>0</td>\n",
       "      <td>0</td>\n",
       "      <td>0</td>\n",
       "      <td>0</td>\n",
       "      <td>5000000</td>\n",
       "      <td>5000000.0</td>\n",
       "    </tr>\n",
       "  </tbody>\n",
       "</table>\n",
       "</div>"
      ],
      "text/plain": [
       "   Area  Location  Rooms  Gymnasium  LiftAvailable  CarParking  Security  \\\n",
       "0   720  Kharghar      1          0              1           1         1   \n",
       "1   600  Kharghar      1          1              1           1         1   \n",
       "2   650  Kharghar      1          1              1           1         1   \n",
       "3   650  Kharghar      1          0              1           1         1   \n",
       "4   665  Kharghar      1          0              1           1         1   \n",
       "\n",
       "   ChildrensPlayArea  Clubhouse  Intercom  LandscapedGardens  IndoorGames  \\\n",
       "0                  0          0         0                  0            0   \n",
       "1                  0          1         0                  0            0   \n",
       "2                  1          1         1                  0            0   \n",
       "3                  0          0         1                  1            0   \n",
       "4                  0          0         1                  1            0   \n",
       "\n",
       "   GasConnection  JoggingTrack  SwimmingPool    Price  Price_per_room  \n",
       "0              0             0             0  4850000       4850000.0  \n",
       "1              0             1             1  4500000       4500000.0  \n",
       "2              0             1             1  6700000       6700000.0  \n",
       "3              0             0             0  4500000       4500000.0  \n",
       "4              0             0             0  5000000       5000000.0  "
      ]
     },
     "execution_count": 4,
     "metadata": {},
     "output_type": "execute_result"
    }
   ],
   "source": [
    "df.head()"
   ]
  },
  {
   "cell_type": "code",
   "execution_count": 5,
   "metadata": {},
   "outputs": [],
   "source": [
    "location_room_encode=df.groupby(df['Location'])['Price_per_room'].median().sort_values().index"
   ]
  },
  {
   "cell_type": "code",
   "execution_count": 6,
   "metadata": {},
   "outputs": [
    {
     "data": {
      "text/plain": [
       "Index(['Ulhasnagar ', 'Boisar', 'Katrap', 'IT Colony', 'Kewale', 'Palghar',\n",
       "       'Kasheli', 'Lokhandwala', 'Ambivli', 'Manvel pada Road',\n",
       "       ...\n",
       "       'Worli ', 'Churchgate', 'Willingdon', 'Peddar Road', 'Haji Ali',\n",
       "       'Worli  ', 'Hanuman Nagar', 'Breach Candy', 'Worli South Mumbai',\n",
       "       'Juhu Tara'],\n",
       "      dtype='object', name='Location', length=411)"
      ]
     },
     "execution_count": 6,
     "metadata": {},
     "output_type": "execute_result"
    }
   ],
   "source": [
    "location_room_encode"
   ]
  },
  {
   "cell_type": "code",
   "execution_count": 7,
   "metadata": {},
   "outputs": [
    {
     "data": {
      "text/plain": [
       "<enumerate at 0x1916fa17d68>"
      ]
     },
     "execution_count": 7,
     "metadata": {},
     "output_type": "execute_result"
    }
   ],
   "source": [
    "enumerate(location_room_encode,0)"
   ]
  },
  {
   "cell_type": "code",
   "execution_count": 8,
   "metadata": {},
   "outputs": [
    {
     "data": {
      "text/plain": [
       "{'Ulhasnagar ': 0,\n",
       " 'Boisar': 1,\n",
       " 'Katrap': 2,\n",
       " 'IT Colony': 3,\n",
       " 'Kewale': 4,\n",
       " 'Palghar': 5,\n",
       " 'Kasheli': 6,\n",
       " 'Lokhandwala': 7,\n",
       " 'Ambivli': 8,\n",
       " 'Manvel pada Road': 9,\n",
       " 'Bhoiwada Kalyan': 10,\n",
       " 'Vasind': 11,\n",
       " 'Asangaon': 12,\n",
       " 'Neral': 13,\n",
       " 'Karjat': 14,\n",
       " 'Sector-26 Taloja': 15,\n",
       " 'Mumbai': 16,\n",
       " 'Khalapur': 17,\n",
       " 'Badlapur': 18,\n",
       " 'Sriprastha': 19,\n",
       " 'Badlapur East': 20,\n",
       " 'Vangani': 21,\n",
       " 'Taloje': 22,\n",
       " 'KASHELI': 23,\n",
       " 'Vijay Nagar': 24,\n",
       " 'Ambernath East': 25,\n",
       " 'Diva': 26,\n",
       " 'Virar': 27,\n",
       " 'Shirgaon': 28,\n",
       " 'Koproli': 29,\n",
       " 'Titwala': 30,\n",
       " 'Badlapur West': 31,\n",
       " 'Virar West': 32,\n",
       " 'Kasar vadavali': 33,\n",
       " 'Nalasopara West': 34,\n",
       " 'Nala Sopara': 35,\n",
       " 'Virar East': 36,\n",
       " 'Palava': 37,\n",
       " 'Ambernath West': 38,\n",
       " 'Ambarnath': 39,\n",
       " 'Morya Nagar': 40,\n",
       " 'Naigaon East': 41,\n",
       " 'Syndicate': 42,\n",
       " 'Nere': 43,\n",
       " 'Vasai east': 44,\n",
       " 'Powai Lake': 45,\n",
       " 'Nalasopara East': 46,\n",
       " 'Vitthalwadi': 47,\n",
       " 'Tilak Nagar Mumbai': 48,\n",
       " 'Nilje Gaon': 49,\n",
       " 'Haware City': 50,\n",
       " 'Vasai West': 51,\n",
       " 'Mumbai Central': 52,\n",
       " 'Palidevad': 53,\n",
       " 'Rasayani': 54,\n",
       " 'Vasai': 55,\n",
       " 'Khopoli': 56,\n",
       " 'Diva Gaon': 57,\n",
       " 'Sector 21 Kharghar': 58,\n",
       " 'Bhiwandi': 59,\n",
       " 'Taloja': 60,\n",
       " 'Adaigaon': 61,\n",
       " 'Godrej Hill': 62,\n",
       " 'Kharegaon': 63,\n",
       " 'Shilphata Road Thane': 64,\n",
       " 'Thane': 65,\n",
       " 'Dombivali East': 66,\n",
       " 'Rustomjee Global City': 67,\n",
       " 'Shil Phata': 68,\n",
       " 'Taloja Panchanand': 69,\n",
       " 'Mira Road and Beyond': 70,\n",
       " 'Rutu Enclave': 71,\n",
       " 'Dronagiri': 72,\n",
       " 'Kalyan East': 73,\n",
       " 'Sector-13 Kharghar': 74,\n",
       " 'Dombivali': 75,\n",
       " 'Sea Face': 76,\n",
       " 'Sector 23 Ulwe': 77,\n",
       " 'Bhayandarpada': 78,\n",
       " 'Sector 21 Ulwe': 79,\n",
       " 'Taloja Bypass Nitalas Link Road': 80,\n",
       " 'Sector-6A Kamothe': 81,\n",
       " 'Uran': 82,\n",
       " 'Kalyan West': 83,\n",
       " 'Sector13 Kharghar': 84,\n",
       " 'ULWE SECTOR 19': 85,\n",
       " 'Sector 11 Kharghar': 86,\n",
       " 'Sunil Nagar': 87,\n",
       " 'Sector-35 Kamothe': 88,\n",
       " 'Mumbai Nashik Expressway': 89,\n",
       " 'Greater Khanda': 90,\n",
       " 'Sector 2 Ulwe': 91,\n",
       " 'Petali': 92,\n",
       " 'Sector-5 Kamothe': 93,\n",
       " 'Karanjade': 94,\n",
       " 'Balkum': 95,\n",
       " 'Sector 10 Kamothe': 96,\n",
       " 'Beturkar Pada': 97,\n",
       " 'Sector 6': 98,\n",
       " 'Kalyan': 99,\n",
       " 'Dombivli West': 100,\n",
       " 'Sector 18 Kamothe': 101,\n",
       " 'Panvel': 102,\n",
       " 'Sector-24 Kamothe': 103,\n",
       " 'Vichumbe': 104,\n",
       " ' Navi Mumbai': 105,\n",
       " 'Vartak Nagar': 106,\n",
       " 'Sector 20 Kamothe': 107,\n",
       " 'Bhayandar East': 108,\n",
       " 'Kamothe': 109,\n",
       " 'Sector16 Ulwe': 110,\n",
       " 'Poonam Sagar Complex': 111,\n",
       " 'Dokali Pada': 112,\n",
       " 'Yogi Hills': 113,\n",
       " 'Sector 36 Kharghar': 114,\n",
       " 'Padle Gaon': 115,\n",
       " 'Ulwe': 116,\n",
       " 'Roadpali': 117,\n",
       " 'Sector 19 Kamothe': 118,\n",
       " 'Sector-9 Ulwe': 119,\n",
       " 'Shivaji Colony': 120,\n",
       " 'Mira Road East': 121,\n",
       " 'Sector 11 Kamothe': 122,\n",
       " 'Sector-12 Kamothe': 123,\n",
       " 'Sector 30 Kharghar': 124,\n",
       " 'PARSIK NAGAR': 125,\n",
       " 'Sector 5 Ulwe': 126,\n",
       " 'Sector12 New Panvel': 127,\n",
       " 'Byculla': 128,\n",
       " 'Kopara': 129,\n",
       " 'Sector12 Kamothe': 130,\n",
       " 'Anjurdive': 131,\n",
       " 'Gulal Wadi': 132,\n",
       " 'Sector-18 Ulwe': 133,\n",
       " 'Sector 17 Ulwe': 134,\n",
       " 'Sector35D Kharghar': 135,\n",
       " 'Sector 22 Kamothe': 136,\n",
       " 'Sector-8 Ulwe': 137,\n",
       " 'Sector 10 Khanda Colony': 138,\n",
       " 'Gandhar Nagar': 139,\n",
       " 'Kamothe Sector 16': 140,\n",
       " 'kavesar': 141,\n",
       " 'Ranjanpada': 142,\n",
       " 'Kolshet Industrial Area': 143,\n",
       " 'Sector 36 Kamothe': 144,\n",
       " 'Owale': 145,\n",
       " 'Sector 19 Kharghar': 146,\n",
       " 'Navi Basti': 147,\n",
       " 'Sector 21 Kamothe': 148,\n",
       " 'Sector 9 Airoli': 149,\n",
       " 'Kolshet': 150,\n",
       " 'Kalamboli': 151,\n",
       " 'Sector-34B Kharghar': 152,\n",
       " 'Sector 12 Kharghar': 153,\n",
       " 'Mira Road': 154,\n",
       " 'Sector34 A Kharghar': 155,\n",
       " 'Sector13 Khanda Colony': 156,\n",
       " 'Mumbai Highway': 157,\n",
       " 'Mumbai Agra National Highway': 158,\n",
       " 'Sector 35G': 159,\n",
       " 'Sector 20 Kharghar': 160,\n",
       " 'Kopar Khairane Sector 19A': 161,\n",
       " 'Kharghar': 162,\n",
       " 'Sector16 Airoli': 163,\n",
       " 'Sector-3 Ulwe': 164,\n",
       " 'Ramdev Park': 165,\n",
       " 'Sector9 Kamothe': 166,\n",
       " 'Mira Bhayandar': 167,\n",
       " 'Sector 5': 168,\n",
       " 'Lokhandwala Township': 169,\n",
       " 'Manpada': 170,\n",
       " ' Goregaon East': 171,\n",
       " 'Sector-50 Seawoods': 172,\n",
       " 'Ghodbunder Road': 173,\n",
       " 'Sector 10': 174,\n",
       " 'Hiranandani Estates': 175,\n",
       " 'Kalwa': 176,\n",
       " 'Thane West': 177,\n",
       " 'Sector 30': 178,\n",
       " 'Majiwada thane': 179,\n",
       " 'I C Colony': 180,\n",
       " 'Govind nagar': 181,\n",
       " 'Shakti Nagar': 182,\n",
       " 'Sector 18': 183,\n",
       " 'Kurla West': 184,\n",
       " 'Sector 11 Belapur': 185,\n",
       " 'Vasant Vihar Thane West': 186,\n",
       " 'Koparkhairane Station Road': 187,\n",
       " 'Manpada near Tiku ji ni wadi': 188,\n",
       " 'Sector 7 Kharghar': 189,\n",
       " 'Four Bungalows': 190,\n",
       " 'Majiwada': 191,\n",
       " 'Thane Belapur Road Kalwa': 192,\n",
       " 'Sector8 Sanpada': 193,\n",
       " 'Vikroli East': 194,\n",
       " 'Kapurbawadi': 195,\n",
       " 'MHADA Colony 20': 196,\n",
       " 'Kolshet Road': 197,\n",
       " 'Koper Khairane': 198,\n",
       " 'TPS Road': 199,\n",
       " 'Saki Naka': 200,\n",
       " 'Dahisar East': 201,\n",
       " 'Thakurli': 202,\n",
       " 'Rajendra Nagar': 203,\n",
       " 'Sector 15 Kharghar': 204,\n",
       " 'Sector 15': 205,\n",
       " 'Sector 35I Kharghar': 206,\n",
       " 'Pokhran Road No 2': 207,\n",
       " 'Sainath Nagar': 208,\n",
       " 'Kharodi': 209,\n",
       " 'Maharashtra Nagar': 210,\n",
       " 'Sector 19 Nerul': 211,\n",
       " 'Sector 12 A': 212,\n",
       " 'Kharghar Sector 34C': 213,\n",
       " 'Pokhran 2': 214,\n",
       " 'Pokharan Road': 215,\n",
       " 'CBD Belapur East': 216,\n",
       " 'Kapur Bawdi': 217,\n",
       " 'Sector 18 Kharghar': 218,\n",
       " 'Anand Nagar Thane West': 219,\n",
       " 'Borivali': 220,\n",
       " 'Sahkar Nagar': 221,\n",
       " 'Devidas Cross Lane': 222,\n",
       " 'Charkop Sector 8': 223,\n",
       " 'Airoli': 224,\n",
       " 'Hiranandani Meadows': 225,\n",
       " 'Wadi Bandar': 226,\n",
       " 'Kannamwar Nagar II': 227,\n",
       " 'Ghansoli': 228,\n",
       " 'Kandivali West': 229,\n",
       " 'kandivali': 230,\n",
       " 'Kulupwadi': 231,\n",
       " 'Panch Pakhadi': 232,\n",
       " 'Jankalyan Nagar': 233,\n",
       " 'Dhanukarwadi': 234,\n",
       " 'Dahisar West': 235,\n",
       " 'Pant Nagar': 236,\n",
       " 'Dahisar': 237,\n",
       " 'Sanpada': 238,\n",
       " 'Vikhroli': 239,\n",
       " 'Vakola Pipeline Road': 240,\n",
       " 'Vasant Vihar': 241,\n",
       " 'Belapur': 242,\n",
       " 'Mulund': 243,\n",
       " 'Mulund East': 244,\n",
       " 'Vrindavan Society': 245,\n",
       " 'Sector 19A Nerul': 246,\n",
       " 'Jeejamata Nagar': 247,\n",
       " 'Vashi': 248,\n",
       " 'Krishanlal Marwah Marg': 249,\n",
       " 'Dattapada': 250,\n",
       " 'Dahisar W': 251,\n",
       " 'Mahatma Gandhi Road': 252,\n",
       " 'Malad West': 253,\n",
       " 'Sector-9 Ghansoli': 254,\n",
       " 'Kurla': 255,\n",
       " 'Kandivali East': 256,\n",
       " 'Samata nagar': 257,\n",
       " 'Thakur Village andivali East': 258,\n",
       " 'Charkop': 259,\n",
       " 'Palm Beach': 260,\n",
       " 'Ghatkopar West': 261,\n",
       " 'Tolaram Colony': 262,\n",
       " 'Kanjurmarg': 263,\n",
       " 'Vazira': 264,\n",
       " 'Gokuldham': 265,\n",
       " 'Eastern Express Highway Vikhroli': 266,\n",
       " 'Chedda Nagar': 267,\n",
       " 'Natakwala Lane': 268,\n",
       " 'Jogeshwari West': 269,\n",
       " 'Sion': 270,\n",
       " 'Thakur Village': 271,\n",
       " 'Ghatkopar': 272,\n",
       " 'Jawahar Nagar': 273,\n",
       " 'Borivali East': 274,\n",
       " 'West Amardeep Colony': 275,\n",
       " 'Borivali West': 276,\n",
       " 'Haridas Nagar': 277,\n",
       " 'Koldongri': 278,\n",
       " 'Phase 2': 279,\n",
       " 'Bhandup West': 280,\n",
       " 'Andheri East': 281,\n",
       " 'MG Road': 282,\n",
       " 'Thakur complex': 283,\n",
       " 'Chembur Shell Colony': 284,\n",
       " 'Chembur': 285,\n",
       " 'Link Road': 286,\n",
       " 'Rawal Pada': 287,\n",
       " 'Goregaon': 288,\n",
       " 'Tilak Nagar': 289,\n",
       " 'Nerul': 290,\n",
       " 'Malad East': 291,\n",
       " 'Goregaon West': 292,\n",
       " 'Mulund West': 293,\n",
       " 'Sindhi Society Chembur': 294,\n",
       " 'Vedant Complex': 295,\n",
       " 'Vikhroli West': 296,\n",
       " 'Patlipada': 297,\n",
       " 'Ghatkopar East': 298,\n",
       " 'Magathane': 299,\n",
       " 'Kanjurmarg East': 300,\n",
       " 'Kalpataru': 301,\n",
       " 'Andheri': 302,\n",
       " 'Goregaon East': 303,\n",
       " 'Vihar': 304,\n",
       " 'Powai': 305,\n",
       " 'Malad': 306,\n",
       " 'Santacruz East': 307,\n",
       " 'Ambivali': 308,\n",
       " 'Jogeshwari East': 309,\n",
       " 'Samata Nagar Thakur Village': 310,\n",
       " 'Off Shimpoli road': 311,\n",
       " 'Seawoods': 312,\n",
       " 'Soniwadi Road': 313,\n",
       " 'Azad Nagar': 314,\n",
       " 'Govandi': 315,\n",
       " 'Bhayandar West': 316,\n",
       " 'Shimpoli': 317,\n",
       " 'Ganesh Nagar': 318,\n",
       " 'Bhakti Park': 319,\n",
       " 'Vile Parle': 320,\n",
       " 'Marol': 321,\n",
       " 'Chembur East': 322,\n",
       " '4 Bunglows': 323,\n",
       " 'Suman Nagar': 324,\n",
       " 'Vakola': 325,\n",
       " 'Kurla East': 326,\n",
       " 'VishnuNagar': 327,\n",
       " 'Vivek Vidyalaya Marg': 328,\n",
       " 'Suburbs Mumbai': 329,\n",
       " 'Diamond Market Road': 330,\n",
       " 'Akurli Nagar': 331,\n",
       " 'Western Express Highway Kandivali East': 332,\n",
       " 'Patel Nagar': 333,\n",
       " 'Kondivita Road': 334,\n",
       " 'Sector-8 Sanpada': 335,\n",
       " 'Pandurangwadi': 336,\n",
       " 'Nahur': 337,\n",
       " 'Goregaon (East)': 338,\n",
       " 'Bangur Nagar': 339,\n",
       " 'Shreyas Colony': 340,\n",
       " 'Link Road Borivali West': 341,\n",
       " 'Antop Hill': 342,\n",
       " 'Wadala': 343,\n",
       " 'Central Avenue': 344,\n",
       " 'Andheri West': 345,\n",
       " 'Wadala East': 346,\n",
       " 'Four Bunglows': 347,\n",
       " 'Sen Nagar': 348,\n",
       " 'Karave Nagar': 349,\n",
       " 'Ville Parle West': 350,\n",
       " 'Sector 58A Seawoods Navi Mumbai': 351,\n",
       " 'Wadala East Wadala': 352,\n",
       " 'DN Nagar Road': 353,\n",
       " 'Chandivali': 354,\n",
       " 'Grant Road West': 355,\n",
       " 'Ville Parle East': 356,\n",
       " 'Deonar': 357,\n",
       " 'Dharavi': 358,\n",
       " 'Seven Bunglow': 359,\n",
       " 'Prabhadevi': 360,\n",
       " 'Sewri': 361,\n",
       " 'Agripada': 362,\n",
       " 'Matunga East': 363,\n",
       " 'Vile Parle West': 364,\n",
       " 'Gundavali Gaothan': 365,\n",
       " 'Versova': 366,\n",
       " 'Vile Parle E': 367,\n",
       " 'Parel Village': 368,\n",
       " 'Upper Worli': 369,\n",
       " 'Matunga': 370,\n",
       " 'Santacruz West': 371,\n",
       " '15th Road': 372,\n",
       " 'Khar': 373,\n",
       " 'Pali Hill': 374,\n",
       " 'Shiv Sagar Estate': 375,\n",
       " 'Parel': 376,\n",
       " 'Dadar West': 377,\n",
       " 'Bandra East': 378,\n",
       " 'Khar West': 379,\n",
       " 'Shastri Nagar': 380,\n",
       " 'Off Nepean Sea Road': 381,\n",
       " 'Hanuman Chowk': 382,\n",
       " 'Mahim': 383,\n",
       " 'Bandra Kurla Complex': 384,\n",
       " 'Dadar East': 385,\n",
       " 'Juhu': 386,\n",
       " 'Almeida Park': 387,\n",
       " 'Gulmohar Road': 388,\n",
       " 'Bandra West': 389,\n",
       " 'Marine Lines': 390,\n",
       " 'Worli': 391,\n",
       " 'Yari Road': 392,\n",
       " 'Oshiwara Police Station Road': 393,\n",
       " 'Mahalaxmi': 394,\n",
       " 'Malabar Hill': 395,\n",
       " 'Lower Parel': 396,\n",
       " 'Napeansea Road': 397,\n",
       " 'Tardeo': 398,\n",
       " 'Girgaon': 399,\n",
       " 'Poddar Road': 400,\n",
       " 'Worli ': 401,\n",
       " 'Churchgate': 402,\n",
       " 'Willingdon': 403,\n",
       " 'Peddar Road': 404,\n",
       " 'Haji Ali': 405,\n",
       " 'Worli  ': 406,\n",
       " 'Hanuman Nagar': 407,\n",
       " 'Breach Candy': 408,\n",
       " 'Worli South Mumbai': 409,\n",
       " 'Juhu Tara': 410}"
      ]
     },
     "execution_count": 8,
     "metadata": {},
     "output_type": "execute_result"
    }
   ],
   "source": [
    "loc_encode={k:i for i,k in enumerate(location_room_encode,0)}\n",
    "loc_encode"
   ]
  },
  {
   "cell_type": "code",
   "execution_count": 9,
   "metadata": {},
   "outputs": [],
   "source": [
    "df['Location']=df['Location'].map(loc_encode)"
   ]
  },
  {
   "cell_type": "code",
   "execution_count": 10,
   "metadata": {},
   "outputs": [
    {
     "data": {
      "text/html": [
       "<div>\n",
       "<style scoped>\n",
       "    .dataframe tbody tr th:only-of-type {\n",
       "        vertical-align: middle;\n",
       "    }\n",
       "\n",
       "    .dataframe tbody tr th {\n",
       "        vertical-align: top;\n",
       "    }\n",
       "\n",
       "    .dataframe thead th {\n",
       "        text-align: right;\n",
       "    }\n",
       "</style>\n",
       "<table border=\"1\" class=\"dataframe\">\n",
       "  <thead>\n",
       "    <tr style=\"text-align: right;\">\n",
       "      <th></th>\n",
       "      <th>Area</th>\n",
       "      <th>Location</th>\n",
       "      <th>Rooms</th>\n",
       "      <th>Gymnasium</th>\n",
       "      <th>LiftAvailable</th>\n",
       "      <th>CarParking</th>\n",
       "      <th>Security</th>\n",
       "      <th>ChildrensPlayArea</th>\n",
       "      <th>Clubhouse</th>\n",
       "      <th>Intercom</th>\n",
       "      <th>LandscapedGardens</th>\n",
       "      <th>IndoorGames</th>\n",
       "      <th>GasConnection</th>\n",
       "      <th>JoggingTrack</th>\n",
       "      <th>SwimmingPool</th>\n",
       "      <th>Price</th>\n",
       "      <th>Price_per_room</th>\n",
       "    </tr>\n",
       "  </thead>\n",
       "  <tbody>\n",
       "    <tr>\n",
       "      <th>0</th>\n",
       "      <td>720</td>\n",
       "      <td>162</td>\n",
       "      <td>1</td>\n",
       "      <td>0</td>\n",
       "      <td>1</td>\n",
       "      <td>1</td>\n",
       "      <td>1</td>\n",
       "      <td>0</td>\n",
       "      <td>0</td>\n",
       "      <td>0</td>\n",
       "      <td>0</td>\n",
       "      <td>0</td>\n",
       "      <td>0</td>\n",
       "      <td>0</td>\n",
       "      <td>0</td>\n",
       "      <td>4850000</td>\n",
       "      <td>4850000.0</td>\n",
       "    </tr>\n",
       "    <tr>\n",
       "      <th>1</th>\n",
       "      <td>600</td>\n",
       "      <td>162</td>\n",
       "      <td>1</td>\n",
       "      <td>1</td>\n",
       "      <td>1</td>\n",
       "      <td>1</td>\n",
       "      <td>1</td>\n",
       "      <td>0</td>\n",
       "      <td>1</td>\n",
       "      <td>0</td>\n",
       "      <td>0</td>\n",
       "      <td>0</td>\n",
       "      <td>0</td>\n",
       "      <td>1</td>\n",
       "      <td>1</td>\n",
       "      <td>4500000</td>\n",
       "      <td>4500000.0</td>\n",
       "    </tr>\n",
       "    <tr>\n",
       "      <th>2</th>\n",
       "      <td>650</td>\n",
       "      <td>162</td>\n",
       "      <td>1</td>\n",
       "      <td>1</td>\n",
       "      <td>1</td>\n",
       "      <td>1</td>\n",
       "      <td>1</td>\n",
       "      <td>1</td>\n",
       "      <td>1</td>\n",
       "      <td>1</td>\n",
       "      <td>0</td>\n",
       "      <td>0</td>\n",
       "      <td>0</td>\n",
       "      <td>1</td>\n",
       "      <td>1</td>\n",
       "      <td>6700000</td>\n",
       "      <td>6700000.0</td>\n",
       "    </tr>\n",
       "    <tr>\n",
       "      <th>3</th>\n",
       "      <td>650</td>\n",
       "      <td>162</td>\n",
       "      <td>1</td>\n",
       "      <td>0</td>\n",
       "      <td>1</td>\n",
       "      <td>1</td>\n",
       "      <td>1</td>\n",
       "      <td>0</td>\n",
       "      <td>0</td>\n",
       "      <td>1</td>\n",
       "      <td>1</td>\n",
       "      <td>0</td>\n",
       "      <td>0</td>\n",
       "      <td>0</td>\n",
       "      <td>0</td>\n",
       "      <td>4500000</td>\n",
       "      <td>4500000.0</td>\n",
       "    </tr>\n",
       "    <tr>\n",
       "      <th>4</th>\n",
       "      <td>665</td>\n",
       "      <td>162</td>\n",
       "      <td>1</td>\n",
       "      <td>0</td>\n",
       "      <td>1</td>\n",
       "      <td>1</td>\n",
       "      <td>1</td>\n",
       "      <td>0</td>\n",
       "      <td>0</td>\n",
       "      <td>1</td>\n",
       "      <td>1</td>\n",
       "      <td>0</td>\n",
       "      <td>0</td>\n",
       "      <td>0</td>\n",
       "      <td>0</td>\n",
       "      <td>5000000</td>\n",
       "      <td>5000000.0</td>\n",
       "    </tr>\n",
       "  </tbody>\n",
       "</table>\n",
       "</div>"
      ],
      "text/plain": [
       "   Area  Location  Rooms  Gymnasium  LiftAvailable  CarParking  Security  \\\n",
       "0   720       162      1          0              1           1         1   \n",
       "1   600       162      1          1              1           1         1   \n",
       "2   650       162      1          1              1           1         1   \n",
       "3   650       162      1          0              1           1         1   \n",
       "4   665       162      1          0              1           1         1   \n",
       "\n",
       "   ChildrensPlayArea  Clubhouse  Intercom  LandscapedGardens  IndoorGames  \\\n",
       "0                  0          0         0                  0            0   \n",
       "1                  0          1         0                  0            0   \n",
       "2                  1          1         1                  0            0   \n",
       "3                  0          0         1                  1            0   \n",
       "4                  0          0         1                  1            0   \n",
       "\n",
       "   GasConnection  JoggingTrack  SwimmingPool    Price  Price_per_room  \n",
       "0              0             0             0  4850000       4850000.0  \n",
       "1              0             1             1  4500000       4500000.0  \n",
       "2              0             1             1  6700000       6700000.0  \n",
       "3              0             0             0  4500000       4500000.0  \n",
       "4              0             0             0  5000000       5000000.0  "
      ]
     },
     "execution_count": 10,
     "metadata": {},
     "output_type": "execute_result"
    }
   ],
   "source": [
    "df.head()"
   ]
  },
  {
   "cell_type": "code",
   "execution_count": 11,
   "metadata": {},
   "outputs": [
    {
     "data": {
      "text/html": [
       "<div>\n",
       "<style scoped>\n",
       "    .dataframe tbody tr th:only-of-type {\n",
       "        vertical-align: middle;\n",
       "    }\n",
       "\n",
       "    .dataframe tbody tr th {\n",
       "        vertical-align: top;\n",
       "    }\n",
       "\n",
       "    .dataframe thead th {\n",
       "        text-align: right;\n",
       "    }\n",
       "</style>\n",
       "<table border=\"1\" class=\"dataframe\">\n",
       "  <thead>\n",
       "    <tr style=\"text-align: right;\">\n",
       "      <th></th>\n",
       "      <th>Area</th>\n",
       "      <th>Location</th>\n",
       "      <th>Rooms</th>\n",
       "      <th>Gymnasium</th>\n",
       "      <th>LiftAvailable</th>\n",
       "      <th>CarParking</th>\n",
       "      <th>Security</th>\n",
       "      <th>ChildrensPlayArea</th>\n",
       "      <th>Clubhouse</th>\n",
       "      <th>Intercom</th>\n",
       "      <th>LandscapedGardens</th>\n",
       "      <th>IndoorGames</th>\n",
       "      <th>GasConnection</th>\n",
       "      <th>JoggingTrack</th>\n",
       "      <th>SwimmingPool</th>\n",
       "      <th>Price</th>\n",
       "    </tr>\n",
       "  </thead>\n",
       "  <tbody>\n",
       "    <tr>\n",
       "      <th>0</th>\n",
       "      <td>720</td>\n",
       "      <td>162</td>\n",
       "      <td>1</td>\n",
       "      <td>0</td>\n",
       "      <td>1</td>\n",
       "      <td>1</td>\n",
       "      <td>1</td>\n",
       "      <td>0</td>\n",
       "      <td>0</td>\n",
       "      <td>0</td>\n",
       "      <td>0</td>\n",
       "      <td>0</td>\n",
       "      <td>0</td>\n",
       "      <td>0</td>\n",
       "      <td>0</td>\n",
       "      <td>4850000</td>\n",
       "    </tr>\n",
       "    <tr>\n",
       "      <th>1</th>\n",
       "      <td>600</td>\n",
       "      <td>162</td>\n",
       "      <td>1</td>\n",
       "      <td>1</td>\n",
       "      <td>1</td>\n",
       "      <td>1</td>\n",
       "      <td>1</td>\n",
       "      <td>0</td>\n",
       "      <td>1</td>\n",
       "      <td>0</td>\n",
       "      <td>0</td>\n",
       "      <td>0</td>\n",
       "      <td>0</td>\n",
       "      <td>1</td>\n",
       "      <td>1</td>\n",
       "      <td>4500000</td>\n",
       "    </tr>\n",
       "    <tr>\n",
       "      <th>2</th>\n",
       "      <td>650</td>\n",
       "      <td>162</td>\n",
       "      <td>1</td>\n",
       "      <td>1</td>\n",
       "      <td>1</td>\n",
       "      <td>1</td>\n",
       "      <td>1</td>\n",
       "      <td>1</td>\n",
       "      <td>1</td>\n",
       "      <td>1</td>\n",
       "      <td>0</td>\n",
       "      <td>0</td>\n",
       "      <td>0</td>\n",
       "      <td>1</td>\n",
       "      <td>1</td>\n",
       "      <td>6700000</td>\n",
       "    </tr>\n",
       "    <tr>\n",
       "      <th>3</th>\n",
       "      <td>650</td>\n",
       "      <td>162</td>\n",
       "      <td>1</td>\n",
       "      <td>0</td>\n",
       "      <td>1</td>\n",
       "      <td>1</td>\n",
       "      <td>1</td>\n",
       "      <td>0</td>\n",
       "      <td>0</td>\n",
       "      <td>1</td>\n",
       "      <td>1</td>\n",
       "      <td>0</td>\n",
       "      <td>0</td>\n",
       "      <td>0</td>\n",
       "      <td>0</td>\n",
       "      <td>4500000</td>\n",
       "    </tr>\n",
       "    <tr>\n",
       "      <th>4</th>\n",
       "      <td>665</td>\n",
       "      <td>162</td>\n",
       "      <td>1</td>\n",
       "      <td>0</td>\n",
       "      <td>1</td>\n",
       "      <td>1</td>\n",
       "      <td>1</td>\n",
       "      <td>0</td>\n",
       "      <td>0</td>\n",
       "      <td>1</td>\n",
       "      <td>1</td>\n",
       "      <td>0</td>\n",
       "      <td>0</td>\n",
       "      <td>0</td>\n",
       "      <td>0</td>\n",
       "      <td>5000000</td>\n",
       "    </tr>\n",
       "  </tbody>\n",
       "</table>\n",
       "</div>"
      ],
      "text/plain": [
       "   Area  Location  Rooms  Gymnasium  LiftAvailable  CarParking  Security  \\\n",
       "0   720       162      1          0              1           1         1   \n",
       "1   600       162      1          1              1           1         1   \n",
       "2   650       162      1          1              1           1         1   \n",
       "3   650       162      1          0              1           1         1   \n",
       "4   665       162      1          0              1           1         1   \n",
       "\n",
       "   ChildrensPlayArea  Clubhouse  Intercom  LandscapedGardens  IndoorGames  \\\n",
       "0                  0          0         0                  0            0   \n",
       "1                  0          1         0                  0            0   \n",
       "2                  1          1         1                  0            0   \n",
       "3                  0          0         1                  1            0   \n",
       "4                  0          0         1                  1            0   \n",
       "\n",
       "   GasConnection  JoggingTrack  SwimmingPool    Price  \n",
       "0              0             0             0  4850000  \n",
       "1              0             1             1  4500000  \n",
       "2              0             1             1  6700000  \n",
       "3              0             0             0  4500000  \n",
       "4              0             0             0  5000000  "
      ]
     },
     "execution_count": 11,
     "metadata": {},
     "output_type": "execute_result"
    }
   ],
   "source": [
    "df=df.drop(['Price_per_room'],axis=1)\n",
    "df.head()"
   ]
  },
  {
   "cell_type": "code",
   "execution_count": 12,
   "metadata": {},
   "outputs": [
    {
     "data": {
      "text/plain": [
       "['Rooms',\n",
       " 'Gymnasium',\n",
       " 'LiftAvailable',\n",
       " 'CarParking',\n",
       " 'Security',\n",
       " 'ChildrensPlayArea',\n",
       " 'Clubhouse',\n",
       " 'Intercom',\n",
       " 'LandscapedGardens',\n",
       " 'IndoorGames',\n",
       " 'GasConnection',\n",
       " 'JoggingTrack',\n",
       " 'SwimmingPool']"
      ]
     },
     "execution_count": 12,
     "metadata": {},
     "output_type": "execute_result"
    }
   ],
   "source": [
    "discrete_variable=[features for features in df.columns if len(df[features].unique())<25]\n",
    "discrete_variable"
   ]
  },
  {
   "cell_type": "code",
   "execution_count": 13,
   "metadata": {},
   "outputs": [
    {
     "data": {
      "image/png": "[encoded data removed]",
      "text/plain": [
       "<Figure size 432x288 with 1 Axes>"
      ]
     },
     "metadata": {
      "needs_background": "light"
     },
     "output_type": "display_data"
    },
    {
     "data": {
      "image/png": "[encoded data removed]",
      "text/plain": [
       "<Figure size 432x288 with 1 Axes>"
      ]
     },
     "metadata": {
      "needs_background": "light"
     },
     "output_type": "display_data"
    },
    {
     "data": {
      "image/png": "[encoded data removed]",
      "text/plain": [
       "<Figure size 432x288 with 1 Axes>"
      ]
     },
     "metadata": {
      "needs_background": "light"
     },
     "output_type": "display_data"
    },
    {
     "data": {
      "image/png": "[encoded data removed]",
      "text/plain": [
       "<Figure size 432x288 with 1 Axes>"
      ]
     },
     "metadata": {
      "needs_background": "light"
     },
     "output_type": "display_data"
    },
    {
     "data": {
      "image/png": "[encoded data removed]",
      "text/plain": [
       "<Figure size 432x288 with 1 Axes>"
      ]
     },
     "metadata": {
      "needs_background": "light"
     },
     "output_type": "display_data"
    },
    {
     "data": {
      "image/png": "[encoded data removed]",
      "text/plain": [
       "<Figure size 432x288 with 1 Axes>"
      ]
     },
     "metadata": {
      "needs_background": "light"
     },
     "output_type": "display_data"
    },
    {
     "data": {
      "image/png": "[encoded data removed]",
      "text/plain": [
       "<Figure size 432x288 with 1 Axes>"
      ]
     },
     "metadata": {
      "needs_background": "light"
     },
     "output_type": "display_data"
    },
    {
     "data": {
      "image/png": "[encoded data removed]",
      "text/plain": [
       "<Figure size 432x288 with 1 Axes>"
      ]
     },
     "metadata": {
      "needs_background": "light"
     },
     "output_type": "display_data"
    },
    {
     "data": {
      "image/png": "[encoded data removed]",
      "text/plain": [
       "<Figure size 432x288 with 1 Axes>"
      ]
     },
     "metadata": {
      "needs_background": "light"
     },
     "output_type": "display_data"
    },
    {
     "data": {
      "image/png": "[encoded data removed]",
      "text/plain": [
       "<Figure size 432x288 with 1 Axes>"
      ]
     },
     "metadata": {
      "needs_background": "light"
     },
     "output_type": "display_data"
    },
    {
     "data": {
      "image/png": "[encoded data removed]",
      "text/plain": [
       "<Figure size 432x288 with 1 Axes>"
      ]
     },
     "metadata": {
      "needs_background": "light"
     },
     "output_type": "display_data"
    },
    {
     "data": {
      "image/png": "[encoded data removed]",
      "text/plain": [
       "<Figure size 432x288 with 1 Axes>"
      ]
     },
     "metadata": {
      "needs_background": "light"
     },
     "output_type": "display_data"
    },
    {
     "data": {
      "image/png": "[encoded data removed]",
      "text/plain": [
       "<Figure size 432x288 with 1 Axes>"
      ]
     },
     "metadata": {
      "needs_background": "light"
     },
     "output_type": "display_data"
    }
   ],
   "source": [
    "for features in discrete_variable:\n",
    "    data=df.copy()\n",
    "    data[features]=df.groupby(df[features])['Price'].median().plot.bar()\n",
    "    plt.title(features)\n",
    "    plt.xlabel(features)\n",
    "    plt.ylabel('Price')\n",
    "    plt.show()"
   ]
  },
  {
   "cell_type": "code",
   "execution_count": 14,
   "metadata": {},
   "outputs": [
    {
     "data": {
      "text/plain": [
       "['Area', 'Location', 'Price']"
      ]
     },
     "execution_count": 14,
     "metadata": {},
     "output_type": "execute_result"
    }
   ],
   "source": [
    "continuous_varaible=[features for features in df.columns if features not in discrete_variable]\n",
    "continuous_varaible"
   ]
  },
  {
   "cell_type": "code",
   "execution_count": 15,
   "metadata": {},
   "outputs": [
    {
     "data": {
      "image/png": "[encoded data removed]",
      "text/plain": [
       "<Figure size 432x288 with 1 Axes>"
      ]
     },
     "metadata": {
      "needs_background": "light"
     },
     "output_type": "display_data"
    },
    {
     "data": {
      "image/png": "[encoded data removed]",
      "text/plain": [
       "<Figure size 432x288 with 1 Axes>"
      ]
     },
     "metadata": {
      "needs_background": "light"
     },
     "output_type": "display_data"
    },
    {
     "data": {
      "image/png": "[encoded data removed]",
      "text/plain": [
       "<Figure size 432x288 with 1 Axes>"
      ]
     },
     "metadata": {
      "needs_background": "light"
     },
     "output_type": "display_data"
    }
   ],
   "source": [
    "import seaborn as sns \n",
    "for features in continuous_varaible:\n",
    "    data=df.copy()\n",
    "    sns.distplot(df[features])\n",
    "    plt.title(features)\n",
    "    plt.show()"
   ]
  },
  {
   "cell_type": "code",
   "execution_count": 16,
   "metadata": {},
   "outputs": [],
   "source": [
    "df['Area']=np.log(df['Area'])\n",
    "df['Price']=np.log(df[\"Price\"])"
   ]
  },
  {
   "cell_type": "code",
   "execution_count": 17,
   "metadata": {},
   "outputs": [
    {
     "data": {
      "image/png": "[encoded data removed]",
      "text/plain": [
       "<Figure size 432x288 with 1 Axes>"
      ]
     },
     "metadata": {
      "needs_background": "light"
     },
     "output_type": "display_data"
    },
    {
     "data": {
      "image/png": "[encoded data removed]",
      "text/plain": [
       "<Figure size 432x288 with 1 Axes>"
      ]
     },
     "metadata": {
      "needs_background": "light"
     },
     "output_type": "display_data"
    },
    {
     "data": {
      "image/png": "[encoded data removed]",
      "text/plain": [
       "<Figure size 432x288 with 1 Axes>"
      ]
     },
     "metadata": {
      "needs_background": "light"
     },
     "output_type": "display_data"
    }
   ],
   "source": [
    "import seaborn as sns \n",
    "for features in continuous_varaible:\n",
    "    data=df.copy()\n",
    "    sns.distplot(df[features])\n",
    "    plt.title(features)\n",
    "    plt.show()"
   ]
  },
  {
   "cell_type": "code",
   "execution_count": 18,
   "metadata": {},
   "outputs": [
    {
     "data": {
      "text/html": [
       "<div>\n",
       "<style scoped>\n",
       "    .dataframe tbody tr th:only-of-type {\n",
       "        vertical-align: middle;\n",
       "    }\n",
       "\n",
       "    .dataframe tbody tr th {\n",
       "        vertical-align: top;\n",
       "    }\n",
       "\n",
       "    .dataframe thead th {\n",
       "        text-align: right;\n",
       "    }\n",
       "</style>\n",
       "<table border=\"1\" class=\"dataframe\">\n",
       "  <thead>\n",
       "    <tr style=\"text-align: right;\">\n",
       "      <th></th>\n",
       "      <th>Area</th>\n",
       "      <th>Location</th>\n",
       "      <th>Rooms</th>\n",
       "      <th>Gymnasium</th>\n",
       "      <th>LiftAvailable</th>\n",
       "      <th>CarParking</th>\n",
       "      <th>Security</th>\n",
       "      <th>ChildrensPlayArea</th>\n",
       "      <th>Clubhouse</th>\n",
       "      <th>Intercom</th>\n",
       "      <th>LandscapedGardens</th>\n",
       "      <th>IndoorGames</th>\n",
       "      <th>GasConnection</th>\n",
       "      <th>JoggingTrack</th>\n",
       "      <th>SwimmingPool</th>\n",
       "      <th>Price</th>\n",
       "    </tr>\n",
       "  </thead>\n",
       "  <tbody>\n",
       "    <tr>\n",
       "      <th>0</th>\n",
       "      <td>6.579251</td>\n",
       "      <td>162</td>\n",
       "      <td>1</td>\n",
       "      <td>0</td>\n",
       "      <td>1</td>\n",
       "      <td>1</td>\n",
       "      <td>1</td>\n",
       "      <td>0</td>\n",
       "      <td>0</td>\n",
       "      <td>0</td>\n",
       "      <td>0</td>\n",
       "      <td>0</td>\n",
       "      <td>0</td>\n",
       "      <td>0</td>\n",
       "      <td>0</td>\n",
       "      <td>15.394489</td>\n",
       "    </tr>\n",
       "    <tr>\n",
       "      <th>1</th>\n",
       "      <td>6.396930</td>\n",
       "      <td>162</td>\n",
       "      <td>1</td>\n",
       "      <td>1</td>\n",
       "      <td>1</td>\n",
       "      <td>1</td>\n",
       "      <td>1</td>\n",
       "      <td>0</td>\n",
       "      <td>1</td>\n",
       "      <td>0</td>\n",
       "      <td>0</td>\n",
       "      <td>0</td>\n",
       "      <td>0</td>\n",
       "      <td>1</td>\n",
       "      <td>1</td>\n",
       "      <td>15.319588</td>\n",
       "    </tr>\n",
       "    <tr>\n",
       "      <th>2</th>\n",
       "      <td>6.476972</td>\n",
       "      <td>162</td>\n",
       "      <td>1</td>\n",
       "      <td>1</td>\n",
       "      <td>1</td>\n",
       "      <td>1</td>\n",
       "      <td>1</td>\n",
       "      <td>1</td>\n",
       "      <td>1</td>\n",
       "      <td>1</td>\n",
       "      <td>0</td>\n",
       "      <td>0</td>\n",
       "      <td>0</td>\n",
       "      <td>1</td>\n",
       "      <td>1</td>\n",
       "      <td>15.717618</td>\n",
       "    </tr>\n",
       "    <tr>\n",
       "      <th>3</th>\n",
       "      <td>6.476972</td>\n",
       "      <td>162</td>\n",
       "      <td>1</td>\n",
       "      <td>0</td>\n",
       "      <td>1</td>\n",
       "      <td>1</td>\n",
       "      <td>1</td>\n",
       "      <td>0</td>\n",
       "      <td>0</td>\n",
       "      <td>1</td>\n",
       "      <td>1</td>\n",
       "      <td>0</td>\n",
       "      <td>0</td>\n",
       "      <td>0</td>\n",
       "      <td>0</td>\n",
       "      <td>15.319588</td>\n",
       "    </tr>\n",
       "    <tr>\n",
       "      <th>4</th>\n",
       "      <td>6.499787</td>\n",
       "      <td>162</td>\n",
       "      <td>1</td>\n",
       "      <td>0</td>\n",
       "      <td>1</td>\n",
       "      <td>1</td>\n",
       "      <td>1</td>\n",
       "      <td>0</td>\n",
       "      <td>0</td>\n",
       "      <td>1</td>\n",
       "      <td>1</td>\n",
       "      <td>0</td>\n",
       "      <td>0</td>\n",
       "      <td>0</td>\n",
       "      <td>0</td>\n",
       "      <td>15.424948</td>\n",
       "    </tr>\n",
       "  </tbody>\n",
       "</table>\n",
       "</div>"
      ],
      "text/plain": [
       "       Area  Location  Rooms  Gymnasium  LiftAvailable  CarParking  Security  \\\n",
       "0  6.579251       162      1          0              1           1         1   \n",
       "1  6.396930       162      1          1              1           1         1   \n",
       "2  6.476972       162      1          1              1           1         1   \n",
       "3  6.476972       162      1          0              1           1         1   \n",
       "4  6.499787       162      1          0              1           1         1   \n",
       "\n",
       "   ChildrensPlayArea  Clubhouse  Intercom  LandscapedGardens  IndoorGames  \\\n",
       "0                  0          0         0                  0            0   \n",
       "1                  0          1         0                  0            0   \n",
       "2                  1          1         1                  0            0   \n",
       "3                  0          0         1                  1            0   \n",
       "4                  0          0         1                  1            0   \n",
       "\n",
       "   GasConnection  JoggingTrack  SwimmingPool      Price  \n",
       "0              0             0             0  15.394489  \n",
       "1              0             1             1  15.319588  \n",
       "2              0             1             1  15.717618  \n",
       "3              0             0             0  15.319588  \n",
       "4              0             0             0  15.424948  "
      ]
     },
     "execution_count": 18,
     "metadata": {},
     "output_type": "execute_result"
    }
   ],
   "source": [
    "df.head()"
   ]
  },
  {
   "cell_type": "code",
   "execution_count": 19,
   "metadata": {},
   "outputs": [
    {
     "data": {
      "text/html": [
       "<div>\n",
       "<style scoped>\n",
       "    .dataframe tbody tr th:only-of-type {\n",
       "        vertical-align: middle;\n",
       "    }\n",
       "\n",
       "    .dataframe tbody tr th {\n",
       "        vertical-align: top;\n",
       "    }\n",
       "\n",
       "    .dataframe thead th {\n",
       "        text-align: right;\n",
       "    }\n",
       "</style>\n",
       "<table border=\"1\" class=\"dataframe\">\n",
       "  <thead>\n",
       "    <tr style=\"text-align: right;\">\n",
       "      <th></th>\n",
       "      <th>Area</th>\n",
       "      <th>Location</th>\n",
       "      <th>Rooms</th>\n",
       "      <th>Gymnasium</th>\n",
       "      <th>LiftAvailable</th>\n",
       "      <th>CarParking</th>\n",
       "      <th>Security</th>\n",
       "      <th>ChildrensPlayArea</th>\n",
       "      <th>Clubhouse</th>\n",
       "      <th>Intercom</th>\n",
       "      <th>LandscapedGardens</th>\n",
       "      <th>IndoorGames</th>\n",
       "      <th>GasConnection</th>\n",
       "      <th>JoggingTrack</th>\n",
       "      <th>SwimmingPool</th>\n",
       "    </tr>\n",
       "  </thead>\n",
       "  <tbody>\n",
       "    <tr>\n",
       "      <th>0</th>\n",
       "      <td>6.579251</td>\n",
       "      <td>162</td>\n",
       "      <td>1</td>\n",
       "      <td>0</td>\n",
       "      <td>1</td>\n",
       "      <td>1</td>\n",
       "      <td>1</td>\n",
       "      <td>0</td>\n",
       "      <td>0</td>\n",
       "      <td>0</td>\n",
       "      <td>0</td>\n",
       "      <td>0</td>\n",
       "      <td>0</td>\n",
       "      <td>0</td>\n",
       "      <td>0</td>\n",
       "    </tr>\n",
       "    <tr>\n",
       "      <th>1</th>\n",
       "      <td>6.396930</td>\n",
       "      <td>162</td>\n",
       "      <td>1</td>\n",
       "      <td>1</td>\n",
       "      <td>1</td>\n",
       "      <td>1</td>\n",
       "      <td>1</td>\n",
       "      <td>0</td>\n",
       "      <td>1</td>\n",
       "      <td>0</td>\n",
       "      <td>0</td>\n",
       "      <td>0</td>\n",
       "      <td>0</td>\n",
       "      <td>1</td>\n",
       "      <td>1</td>\n",
       "    </tr>\n",
       "    <tr>\n",
       "      <th>2</th>\n",
       "      <td>6.476972</td>\n",
       "      <td>162</td>\n",
       "      <td>1</td>\n",
       "      <td>1</td>\n",
       "      <td>1</td>\n",
       "      <td>1</td>\n",
       "      <td>1</td>\n",
       "      <td>1</td>\n",
       "      <td>1</td>\n",
       "      <td>1</td>\n",
       "      <td>0</td>\n",
       "      <td>0</td>\n",
       "      <td>0</td>\n",
       "      <td>1</td>\n",
       "      <td>1</td>\n",
       "    </tr>\n",
       "    <tr>\n",
       "      <th>3</th>\n",
       "      <td>6.476972</td>\n",
       "      <td>162</td>\n",
       "      <td>1</td>\n",
       "      <td>0</td>\n",
       "      <td>1</td>\n",
       "      <td>1</td>\n",
       "      <td>1</td>\n",
       "      <td>0</td>\n",
       "      <td>0</td>\n",
       "      <td>1</td>\n",
       "      <td>1</td>\n",
       "      <td>0</td>\n",
       "      <td>0</td>\n",
       "      <td>0</td>\n",
       "      <td>0</td>\n",
       "    </tr>\n",
       "    <tr>\n",
       "      <th>4</th>\n",
       "      <td>6.499787</td>\n",
       "      <td>162</td>\n",
       "      <td>1</td>\n",
       "      <td>0</td>\n",
       "      <td>1</td>\n",
       "      <td>1</td>\n",
       "      <td>1</td>\n",
       "      <td>0</td>\n",
       "      <td>0</td>\n",
       "      <td>1</td>\n",
       "      <td>1</td>\n",
       "      <td>0</td>\n",
       "      <td>0</td>\n",
       "      <td>0</td>\n",
       "      <td>0</td>\n",
       "    </tr>\n",
       "  </tbody>\n",
       "</table>\n",
       "</div>"
      ],
      "text/plain": [
       "       Area  Location  Rooms  Gymnasium  LiftAvailable  CarParking  Security  \\\n",
       "0  6.579251       162      1          0              1           1         1   \n",
       "1  6.396930       162      1          1              1           1         1   \n",
       "2  6.476972       162      1          1              1           1         1   \n",
       "3  6.476972       162      1          0              1           1         1   \n",
       "4  6.499787       162      1          0              1           1         1   \n",
       "\n",
       "   ChildrensPlayArea  Clubhouse  Intercom  LandscapedGardens  IndoorGames  \\\n",
       "0                  0          0         0                  0            0   \n",
       "1                  0          1         0                  0            0   \n",
       "2                  1          1         1                  0            0   \n",
       "3                  0          0         1                  1            0   \n",
       "4                  0          0         1                  1            0   \n",
       "\n",
       "   GasConnection  JoggingTrack  SwimmingPool  \n",
       "0              0             0             0  \n",
       "1              0             1             1  \n",
       "2              0             1             1  \n",
       "3              0             0             0  \n",
       "4              0             0             0  "
      ]
     },
     "execution_count": 19,
     "metadata": {},
     "output_type": "execute_result"
    }
   ],
   "source": [
    "X=df.drop([\"Price\"],axis=1)\n",
    "X.head()"
   ]
  },
  {
   "cell_type": "code",
   "execution_count": 20,
   "metadata": {},
   "outputs": [
    {
     "data": {
      "text/plain": [
       "0    15.394489\n",
       "1    15.319588\n",
       "2    15.717618\n",
       "3    15.319588\n",
       "4    15.424948\n",
       "Name: Price, dtype: float64"
      ]
     },
     "execution_count": 20,
     "metadata": {},
     "output_type": "execute_result"
    }
   ],
   "source": [
    "Y=df['Price'].copy()\n",
    "Y.head()"
   ]
  },
  {
   "cell_type": "code",
   "execution_count": 21,
   "metadata": {},
   "outputs": [],
   "source": [
    "from sklearn.model_selection import train_test_split\n",
    "X_train, X_test, Y_train, Y_test = train_test_split(X, Y, test_size=0.30, random_state=42)"
   ]
  },
  {
   "cell_type": "code",
   "execution_count": 22,
   "metadata": {},
   "outputs": [
    {
     "name": "stdout",
     "output_type": "stream",
     "text": [
      "4441 1904 4441 1904\n"
     ]
    }
   ],
   "source": [
    "print(len(X_train),len(X_test),len(Y_train),len(Y_test))"
   ]
  },
  {
   "cell_type": "code",
   "execution_count": 23,
   "metadata": {},
   "outputs": [
    {
     "data": {
      "text/plain": [
       "RandomForestRegressor()"
      ]
     },
     "execution_count": 23,
     "metadata": {},
     "output_type": "execute_result"
    }
   ],
   "source": [
    "from sklearn.linear_model import Ridge,LinearRegression\n",
    "from sklearn.ensemble import RandomForestRegressor,ExtraTreesRegressor\n",
    "from sklearn.neighbors import KNeighborsRegressor\n",
    "model=RandomForestRegressor()\n",
    "# model=Ridge(alpha = 0.3,solver='saga')\n",
    "model.fit(X_train,Y_train)"
   ]
  },
  {
   "cell_type": "code",
   "execution_count": 24,
   "metadata": {},
   "outputs": [
    {
     "data": {
      "text/plain": [
       "array([0.1183958 , 0.58438284, 0.27241431, 0.00160997, 0.00183417,\n",
       "       0.00196761, 0.00254046, 0.00181033, 0.00185996, 0.00229065,\n",
       "       0.00233413, 0.00247475, 0.00222699, 0.00213082, 0.00172721])"
      ]
     },
     "execution_count": 24,
     "metadata": {},
     "output_type": "execute_result"
    }
   ],
   "source": [
    "model.feature_importances_"
   ]
  },
  {
   "cell_type": "code",
   "execution_count": 25,
   "metadata": {},
   "outputs": [
    {
     "data": {
      "text/plain": [
       "0.9308190712863956"
      ]
     },
     "execution_count": 25,
     "metadata": {},
     "output_type": "execute_result"
    }
   ],
   "source": [
    "model.score(X_test,Y_test)"
   ]
  },
  {
   "cell_type": "code",
   "execution_count": 26,
   "metadata": {},
   "outputs": [
    {
     "name": "stdout",
     "output_type": "stream",
     "text": [
      "0.9308190712863956\n"
     ]
    }
   ],
   "source": [
    "from sklearn.metrics import r2_score\n",
    "y_pred=model.predict(X_test)\n",
    "score=r2_score(Y_test,y_pred)\n",
    "print(score)"
   ]
  },
  {
   "cell_type": "code",
   "execution_count": 27,
   "metadata": {},
   "outputs": [
    {
     "name": "stdout",
     "output_type": "stream",
     "text": [
      "0.9208667871556804\n"
     ]
    }
   ],
   "source": [
    "from sklearn.model_selection import KFold\n",
    "cv=KFold(n_splits=5,shuffle=True,random_state=1)\n",
    "from sklearn.model_selection import cross_val_score\n",
    "print(cross_val_score(model,X,Y,scoring='r2',cv=10).mean())"
   ]
  },
  {
   "cell_type": "code",
   "execution_count": 28,
   "metadata": {},
   "outputs": [],
   "source": [
    "def predict_output(Area,location_encoded,Rooms,Gymnasium,LiftAvailable,CarParking,Security,ChildrensPlayArea,Clubhouse,Intercom,\n",
    "                   LandscapedGardens,IndoorGames,GasConnection,JoggingTrack,SwimmingPool):\n",
    "    \n",
    "    x=np.zeros(len(X.columns))\n",
    "    x[0]=np.log(Area)\n",
    "    x[1]=loc_encode[location_encoded]\n",
    "    x[2]=Rooms\n",
    "    x[3]=Gymnasium\n",
    "    x[4]=LiftAvailable\n",
    "    x[5]=CarParking\n",
    "    x[6]=Security\n",
    "    x[7]=ChildrensPlayArea\n",
    "    x[8]=Clubhouse\n",
    "    x[9]=Intercom\n",
    "    x[10]=LandscapedGardens\n",
    "    x[11]=IndoorGames\n",
    "    x[12]=GasConnection\n",
    "    x[13]=JoggingTrack\n",
    "    x[14]=SwimmingPool\n",
    "    \n",
    "    predict=model.predict([x])[0]\n",
    "    print(np.exp(predict))"
   ]
  },
  {
   "cell_type": "code",
   "execution_count": 29,
   "metadata": {},
   "outputs": [
    {
     "name": "stdout",
     "output_type": "stream",
     "text": [
      "6031272.101918653\n"
     ]
    }
   ],
   "source": [
    "predict_output(1000,'Dombivali',2,1,1,1,1,1,1,1,1,1,1,1,1)"
   ]
  },
  {
   "cell_type": "code",
   "execution_count": 30,
   "metadata": {},
   "outputs": [
    {
     "name": "stdout",
     "output_type": "stream",
     "text": [
      "7703354.068958755\n"
     ]
    }
   ],
   "source": [
    "predict_output(1000,'Kalyan',2,1,1,1,1,1,1,1,1,1,1,1,1)"
   ]
  },
  {
   "cell_type": "code",
   "execution_count": 31,
   "metadata": {},
   "outputs": [
    {
     "name": "stdout",
     "output_type": "stream",
     "text": [
      "13616155.8632435\n"
     ]
    }
   ],
   "source": [
    "predict_output(1000,'Mulund',2,1,1,1,1,1,1,1,1,1,1,1,1)"
   ]
  },
  {
   "cell_type": "code",
   "execution_count": 32,
   "metadata": {},
   "outputs": [
    {
     "name": "stdout",
     "output_type": "stream",
     "text": [
      "40772640.128998324\n"
     ]
    }
   ],
   "source": [
    "predict_output(1000,'Juhu',2,1,1,1,1,1,1,1,1,1,1,1,1)"
   ]
  },
  {
   "cell_type": "code",
   "execution_count": 33,
   "metadata": {},
   "outputs": [
    {
     "name": "stdout",
     "output_type": "stream",
     "text": [
      "16255709.481619753\n"
     ]
    }
   ],
   "source": [
    "predict_output(1000,'Sion',2,1,1,1,1,1,1,1,1,1,1,1,1)"
   ]
  },
  {
   "cell_type": "code",
   "execution_count": null,
   "metadata": {},
   "outputs": [],
   "source": []
  }
 ],
 "metadata": {
  "kernelspec": {
   "display_name": "Python 3",
   "language": "python",
   "name": "python3"
  },
  "language_info": {
   "codemirror_mode": {
    "name": "ipython",
    "version": 3
   },
   "file_extension": ".py",
   "mimetype": "text/x-python",
   "name": "python",
   "nbconvert_exporter": "python",
   "pygments_lexer": "ipython3",
   "version": "3.7.6"
  }
 },
 "nbformat": 4,
 "nbformat_minor": 4
}
